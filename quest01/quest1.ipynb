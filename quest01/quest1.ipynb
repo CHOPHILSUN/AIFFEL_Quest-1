{
  "cells": [
    {
      "cell_type": "markdown",
      "metadata": {
        "colab_type": "text",
        "id": "view-in-github"
      },
      "source": [
        "<a href=\"https://colab.research.google.com/github/style4da/AIFFEL_Quest/blob/master/quest01/quest1.ipynb\" target=\"_parent\"><img src=\"https://colab.research.google.com/assets/colab-badge.svg\" alt=\"Open In Colab\"/></a>"
      ]
    },
    {
      "cell_type": "code",
      "execution_count": 1,
      "metadata": {
        "colab": {
          "base_uri": "https://localhost:8080/",
          "height": 400
        },
        "id": "Yk2zEvLk4PvI",
        "outputId": "cea53e26-93d9-4339-afa6-4486b8e98023"
      },
      "outputs": [
        {
          "name": "stdout",
          "output_type": "stream",
          "text": [
            "회문\n"
          ]
        }
      ],
      "source": [
        "word = input()\n",
        "if str(word) == \"\".join(reversed(word)) :\n",
        "    print(\"회문\")\n",
        "else:\n",
        "    print(\"회문이 아니다\")"
      ]
    },
    {
      "cell_type": "code",
      "execution_count": 2,
      "metadata": {},
      "outputs": [
        {
          "name": "stdout",
          "output_type": "stream",
          "text": [
            "회문이 아니다\n"
          ]
        }
      ],
      "source": [
        "word = input()\n",
        "if str(word) == \"\".join(reversed(word)) :\n",
        "    print(\"회문\")\n",
        "else:\n",
        "    print(\"회문이 아니다\")"
      ]
    },
    {
      "cell_type": "markdown",
      "metadata": {},
      "source": [
        "# AIFFEL Campus Online 5th Code Peer Review Templete\n",
        "- 코더 : 김대선\n",
        "- 리뷰어 : 지동현\n",
        "\n",
        "\n",
        "# PRT(PeerReviewTemplate) \n",
        "각 항목을 스스로 확인하고 토의하여 작성한 코드에 적용합니다.\n",
        "\n",
        "- [X] 코드가 정상적으로 동작하고 주어진 문제를 해결했나요?\n",
        "  네, 정상적으로 돌아갑니다.\n",
        "- [ ] 주석을 보고 작성자의 코드가 이해되었나요?\n",
        "  > \"\".join 명령어를 몰랐어서 따로 검색했던 것 같습니다. 옆에 주석으로 설명을 달아주면 더 좋았을 것 같습니다.\n",
        "- [ ] 코드가 에러를 유발할 가능성이 없나요?\n",
        "  > 이것저것 적어보았지만 에러는 나지 않았습니다.\n",
        "- [X] 코드 작성자가 코드를 제대로 이해하고 작성했나요?\n",
        "  > 네 \n",
        "- [X] 코드가 간결한가요?\n",
        "  > 코드가 간결하지만 주석에 어떤식으로 반대로 입력 되는지 로직을 설명했으면 더 좋았을 것 같습니다.\n",
        "\n",
        "# 참고 링크 및 코드 개선\n",
        "```python\n",
        "# 코드 리뷰 시 참고한 링크가 있다면 링크와 간략한 설명을 첨부합니다.\n",
        "# 코드 리뷰를 통해 개선한 코드가 있다면 코드와 간략한 설명을 첨부합니다."
      ]
    }
  ],
  "metadata": {
    "colab": {
      "authorship_tag": "ABX9TyNnA4ChEXc1XaEP/0N/mApw",
      "include_colab_link": true,
      "mount_file_id": "1MateM_VTi1wxHgID11UuhU9fVZ9Oj0wd",
      "provenance": []
    },
    "kernelspec": {
      "display_name": "Python 3",
      "name": "python3"
    },
    "language_info": {
      "codemirror_mode": {
        "name": "ipython",
        "version": 3
      },
      "file_extension": ".py",
      "mimetype": "text/x-python",
      "name": "python",
      "nbconvert_exporter": "python",
      "pygments_lexer": "ipython3",
      "version": "3.9.1"
    }
  },
  "nbformat": 4,
  "nbformat_minor": 0
}
