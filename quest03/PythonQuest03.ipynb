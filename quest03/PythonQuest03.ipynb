{
  "nbformat": 4,
  "nbformat_minor": 0,
  "metadata": {
    "colab": {
      "provenance": [],
      "include_colab_link": true
    },
    "kernelspec": {
      "name": "python3",
      "display_name": "Python 3"
    },
    "language_info": {
      "name": "python"
    }
  },
  "cells": [
    {
      "cell_type": "markdown",
      "metadata": {
        "id": "view-in-github",
        "colab_type": "text"
      },
      "source": [
        "<a href=\"https://colab.research.google.com/github/style4da/AIFFEL_Quest/blob/master/quest03/PythonQuest03.ipynb\" target=\"_parent\"><img src=\"https://colab.research.google.com/assets/colab-badge.svg\" alt=\"Open In Colab\"/></a>"
      ]
    },
    {
      "cell_type": "code",
      "source": [
        "import re\n",
        "from collections import Counter\n",
        "\n",
        "file = open(\"/content/drive/MyDrive/Colab Notebooks/06TheAvengers.txt\", \"r\")\n",
        "\n",
        "contents = file.read()\n",
        "\n",
        "#어벤저스 텍스트를 소문자로 변환하고 기호를 제거.\n",
        "def text(text):\n",
        "  text = re.sub(r'[^\\w\\s]', ' ', text) #regex로 어벤저스텍스트 안의 기호 삭제\n",
        "  text = text.lower() #소문자로 변환\n",
        "  return text #출력\n",
        "\n",
        "# 정리된 어벤저스 텍스트로 n-gram을 만들기\n",
        "def generate_ngram(text, n):\n",
        "  aha = text.split() # 텍스트분리\n",
        "  ngrams = [] # n-gram을 저장할 빈 리스트 생성\n",
        "  for i in range(len(aha) - n + 1): # n-gram을 만들어 줄 for문\n",
        "    ngram = ' '.join(aha[i:i+n])\n",
        "    ngrams.append(ngram)\n",
        "  return ngrams\n",
        "\n",
        "text = text(contents)\n",
        "\n",
        "ngrams = generate_ngram(text, 2) # 2-gram 제너레이터로 만들어진 그람들\n",
        "\n",
        "count = Counter(ngrams) # 그람들이 몇 개나 될까\n",
        "\n",
        "most = count.most_common(1) # 빈도가 높은 그람들\n",
        "\n",
        "print(most)\n",
        "\n",
        "# 회고\n",
        "# 배운 점 - 따로 코랩에 저장된 텍스트 파일을 적용하여 n-gram 만들기를 하였습니다.\n",
        "# 아쉬운 점 - 메서드 검색은 필수였으며 파이썬의 다양한 메서드들을 알아주면 매우 유용할 것 같습니다. 코드 작성 자체가 어려움이 컸습니다.\n",
        "# 느낀 점 - 그루님의 덕분에 코드를 완성하고 이해를 할 수 있었습니다. 코드의 이해도가 아직 많이 부족하여 연습이 많이 필요할 듯 합니다."
      ],
      "metadata": {
        "colab": {
          "base_uri": "https://localhost:8080/"
        },
        "id": "NdOzcOkD6zwb",
        "outputId": "70f7fe28-9744-47e6-f82c-5f65d856f9a5"
      },
      "execution_count": 16,
      "outputs": [
        {
          "output_type": "stream",
          "name": "stdout",
          "text": [
            "[('it s', 68)]\n"
          ]
        }
      ]
    },
    {
      "cell_type": "code",
      "source": [
        "from google.colab import drive\n",
        "drive.mount('/content/drive')"
      ],
      "metadata": {
        "id": "vtvjJdAkT0XW",
        "colab": {
          "base_uri": "https://localhost:8080/"
        },
        "outputId": "dc0b397d-bdf0-4fb9-a62c-58f43e9ea282"
      },
      "execution_count": null,
      "outputs": [
        {
          "output_type": "stream",
          "name": "stdout",
          "text": [
            "Mounted at /content/drive\n"
          ]
        }
      ]
    }
  ]
}